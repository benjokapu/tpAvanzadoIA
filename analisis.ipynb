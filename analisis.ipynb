{
 "cells": [
  {
   "cell_type": "markdown",
   "metadata": {},
   "source": [
    "## TRABAJO PRÁCTICO 1"
   ]
  },
  {
   "cell_type": "code",
   "execution_count": 301,
   "metadata": {},
   "outputs": [
    {
     "name": "stdout",
     "output_type": "stream",
     "text": [
      "Requirement already satisfied: pandas in c:\\program files\\python36\\lib\\site-packages (1.1.5)\n",
      "Requirement already satisfied: pytz>=2017.2 in c:\\program files\\python36\\lib\\site-packages (from pandas) (2022.2.1)\n",
      "Requirement already satisfied: python-dateutil>=2.7.3 in c:\\program files\\python36\\lib\\site-packages (from pandas) (2.7.5)\n",
      "Requirement already satisfied: numpy>=1.15.4 in c:\\program files\\python36\\lib\\site-packages (from pandas) (1.19.5)\n",
      "Requirement already satisfied: six>=1.5 in c:\\program files\\python36\\lib\\site-packages (from python-dateutil>=2.7.3->pandas) (1.11.0)\n",
      "Requirement already satisfied: matplotlib in c:\\program files\\python36\\lib\\site-packages (3.3.4)\n",
      "Requirement already satisfied: cycler>=0.10 in c:\\program files\\python36\\lib\\site-packages (from matplotlib) (0.11.0)\n",
      "Requirement already satisfied: pillow>=6.2.0 in c:\\program files\\python36\\lib\\site-packages (from matplotlib) (8.4.0)\n",
      "Requirement already satisfied: kiwisolver>=1.0.1 in c:\\program files\\python36\\lib\\site-packages (from matplotlib) (1.3.1)\n",
      "Requirement already satisfied: python-dateutil>=2.1 in c:\\program files\\python36\\lib\\site-packages (from matplotlib) (2.7.5)\n",
      "Requirement already satisfied: numpy>=1.15 in c:\\program files\\python36\\lib\\site-packages (from matplotlib) (1.19.5)\n",
      "Requirement already satisfied: pyparsing!=2.0.4,!=2.1.2,!=2.1.6,>=2.0.3 in c:\\program files\\python36\\lib\\site-packages (from matplotlib) (3.0.7)\n",
      "Requirement already satisfied: six>=1.5 in c:\\program files\\python36\\lib\\site-packages (from python-dateutil>=2.1->matplotlib) (1.11.0)\n",
      "Requirement already satisfied: scikit-learn in c:\\program files\\python36\\lib\\site-packages (0.24.2)\n",
      "Requirement already satisfied: joblib>=0.11 in c:\\program files\\python36\\lib\\site-packages (from scikit-learn) (1.1.1)\n",
      "Requirement already satisfied: numpy>=1.13.3 in c:\\program files\\python36\\lib\\site-packages (from scikit-learn) (1.19.5)\n",
      "Requirement already satisfied: scipy>=0.19.1 in c:\\program files\\python36\\lib\\site-packages (from scikit-learn) (1.5.4)\n",
      "Requirement already satisfied: threadpoolctl>=2.0.0 in c:\\program files\\python36\\lib\\site-packages (from scikit-learn) (3.1.0)\n",
      "Requirement already satisfied: seaborn in c:\\program files\\python36\\lib\\site-packages (0.11.2)\n",
      "Requirement already satisfied: matplotlib>=2.2 in c:\\program files\\python36\\lib\\site-packages (from seaborn) (3.3.4)\n",
      "Requirement already satisfied: pandas>=0.23 in c:\\program files\\python36\\lib\\site-packages (from seaborn) (1.1.5)\n",
      "Requirement already satisfied: numpy>=1.15 in c:\\program files\\python36\\lib\\site-packages (from seaborn) (1.19.5)\n",
      "Requirement already satisfied: scipy>=1.0 in c:\\program files\\python36\\lib\\site-packages (from seaborn) (1.5.4)\n",
      "Requirement already satisfied: pyparsing!=2.0.4,!=2.1.2,!=2.1.6,>=2.0.3 in c:\\program files\\python36\\lib\\site-packages (from matplotlib>=2.2->seaborn) (3.0.7)\n",
      "Requirement already satisfied: kiwisolver>=1.0.1 in c:\\program files\\python36\\lib\\site-packages (from matplotlib>=2.2->seaborn) (1.3.1)\n",
      "Requirement already satisfied: python-dateutil>=2.1 in c:\\program files\\python36\\lib\\site-packages (from matplotlib>=2.2->seaborn) (2.7.5)\n",
      "Requirement already satisfied: cycler>=0.10 in c:\\program files\\python36\\lib\\site-packages (from matplotlib>=2.2->seaborn) (0.11.0)\n",
      "Requirement already satisfied: pillow>=6.2.0 in c:\\program files\\python36\\lib\\site-packages (from matplotlib>=2.2->seaborn) (8.4.0)\n",
      "Requirement already satisfied: pytz>=2017.2 in c:\\program files\\python36\\lib\\site-packages (from pandas>=0.23->seaborn) (2022.2.1)\n",
      "Requirement already satisfied: six>=1.5 in c:\\program files\\python36\\lib\\site-packages (from python-dateutil>=2.1->matplotlib>=2.2->seaborn) (1.11.0)\n"
     ]
    }
   ],
   "source": [
    "!pip install pandas\n",
    "!pip install matplotlib\n",
    "!pip install scikit-learn\n",
    "!pip install seaborn"
   ]
  },
  {
   "cell_type": "code",
   "execution_count": 302,
   "metadata": {},
   "outputs": [],
   "source": [
    "import pandas as pd\n",
    "import matplotlib.pyplot as plt\n",
    "import seaborn as sns\n",
    "import numpy as np\n",
    "\n",
    "# Decision Tree CLassifier\n",
    "from sklearn.tree import DecisionTreeClassifier\n",
    "\n",
    "from sklearn.metrics import accuracy_score, confusion_matrix, classification_report, roc_auc_score, precision_score, accuracy_score\n",
    "\n",
    "from sklearn.model_selection import train_test_split, GridSearchCV\n",
    "\n",
    "from sklearn.linear_model import LogisticRegression\n",
    "\n",
    "SEED = 42"
   ]
  },
  {
   "cell_type": "code",
   "execution_count": 303,
   "metadata": {},
   "outputs": [
    {
     "data": {
      "text/html": [
       "<div>\n",
       "<style scoped>\n",
       "    .dataframe tbody tr th:only-of-type {\n",
       "        vertical-align: middle;\n",
       "    }\n",
       "\n",
       "    .dataframe tbody tr th {\n",
       "        vertical-align: top;\n",
       "    }\n",
       "\n",
       "    .dataframe thead th {\n",
       "        text-align: right;\n",
       "    }\n",
       "</style>\n",
       "<table border=\"1\" class=\"dataframe\">\n",
       "  <thead>\n",
       "    <tr style=\"text-align: right;\">\n",
       "      <th></th>\n",
       "      <th>Rk</th>\n",
       "      <th>Player</th>\n",
       "      <th>Nation</th>\n",
       "      <th>Pos</th>\n",
       "      <th>Squad</th>\n",
       "      <th>Comp</th>\n",
       "      <th>Age</th>\n",
       "      <th>Born</th>\n",
       "      <th>MP</th>\n",
       "      <th>Starts</th>\n",
       "      <th>...</th>\n",
       "      <th>Gls_90</th>\n",
       "      <th>Ast_90</th>\n",
       "      <th>G+A_90</th>\n",
       "      <th>G-PK_90</th>\n",
       "      <th>G+A-PK_90</th>\n",
       "      <th>xG_90</th>\n",
       "      <th>xAG_90</th>\n",
       "      <th>xG+xAG_90</th>\n",
       "      <th>npxG_90</th>\n",
       "      <th>npxG+xAG_90</th>\n",
       "    </tr>\n",
       "  </thead>\n",
       "  <tbody>\n",
       "    <tr>\n",
       "      <th>0</th>\n",
       "      <td>1</td>\n",
       "      <td>Max Aarons</td>\n",
       "      <td>eng ENG</td>\n",
       "      <td>DF</td>\n",
       "      <td>Bournemouth</td>\n",
       "      <td>eng Premier League</td>\n",
       "      <td>23.0</td>\n",
       "      <td>2000.0</td>\n",
       "      <td>20</td>\n",
       "      <td>13</td>\n",
       "      <td>...</td>\n",
       "      <td>0.00</td>\n",
       "      <td>0.07</td>\n",
       "      <td>0.07</td>\n",
       "      <td>0.00</td>\n",
       "      <td>0.07</td>\n",
       "      <td>0.00</td>\n",
       "      <td>0.06</td>\n",
       "      <td>0.06</td>\n",
       "      <td>0.00</td>\n",
       "      <td>0.06</td>\n",
       "    </tr>\n",
       "    <tr>\n",
       "      <th>1</th>\n",
       "      <td>2</td>\n",
       "      <td>Brenden Aaronson</td>\n",
       "      <td>us USA</td>\n",
       "      <td>MF,FW</td>\n",
       "      <td>Union Berlin</td>\n",
       "      <td>de Bundesliga</td>\n",
       "      <td>22.0</td>\n",
       "      <td>2000.0</td>\n",
       "      <td>30</td>\n",
       "      <td>14</td>\n",
       "      <td>...</td>\n",
       "      <td>0.14</td>\n",
       "      <td>0.14</td>\n",
       "      <td>0.28</td>\n",
       "      <td>0.14</td>\n",
       "      <td>0.28</td>\n",
       "      <td>0.14</td>\n",
       "      <td>0.13</td>\n",
       "      <td>0.27</td>\n",
       "      <td>0.14</td>\n",
       "      <td>0.27</td>\n",
       "    </tr>\n",
       "    <tr>\n",
       "      <th>2</th>\n",
       "      <td>3</td>\n",
       "      <td>Paxten Aaronson</td>\n",
       "      <td>us USA</td>\n",
       "      <td>MF</td>\n",
       "      <td>Eint Frankfurt</td>\n",
       "      <td>de Bundesliga</td>\n",
       "      <td>19.0</td>\n",
       "      <td>2003.0</td>\n",
       "      <td>7</td>\n",
       "      <td>1</td>\n",
       "      <td>...</td>\n",
       "      <td>0.00</td>\n",
       "      <td>0.89</td>\n",
       "      <td>0.89</td>\n",
       "      <td>0.00</td>\n",
       "      <td>0.89</td>\n",
       "      <td>0.11</td>\n",
       "      <td>0.07</td>\n",
       "      <td>0.19</td>\n",
       "      <td>0.11</td>\n",
       "      <td>0.19</td>\n",
       "    </tr>\n",
       "    <tr>\n",
       "      <th>3</th>\n",
       "      <td>4</td>\n",
       "      <td>Keyliane Abdallah</td>\n",
       "      <td>fr FRA</td>\n",
       "      <td>FW</td>\n",
       "      <td>Marseille</td>\n",
       "      <td>fr Ligue 1</td>\n",
       "      <td>17.0</td>\n",
       "      <td>2006.0</td>\n",
       "      <td>1</td>\n",
       "      <td>0</td>\n",
       "      <td>...</td>\n",
       "      <td>0.00</td>\n",
       "      <td>0.00</td>\n",
       "      <td>0.00</td>\n",
       "      <td>0.00</td>\n",
       "      <td>0.00</td>\n",
       "      <td>0.00</td>\n",
       "      <td>0.00</td>\n",
       "      <td>0.00</td>\n",
       "      <td>0.00</td>\n",
       "      <td>0.00</td>\n",
       "    </tr>\n",
       "    <tr>\n",
       "      <th>4</th>\n",
       "      <td>5</td>\n",
       "      <td>Yunis Abdelhamid</td>\n",
       "      <td>ma MAR</td>\n",
       "      <td>DF</td>\n",
       "      <td>Reims</td>\n",
       "      <td>fr Ligue 1</td>\n",
       "      <td>35.0</td>\n",
       "      <td>1987.0</td>\n",
       "      <td>31</td>\n",
       "      <td>31</td>\n",
       "      <td>...</td>\n",
       "      <td>0.13</td>\n",
       "      <td>0.00</td>\n",
       "      <td>0.13</td>\n",
       "      <td>0.10</td>\n",
       "      <td>0.10</td>\n",
       "      <td>0.11</td>\n",
       "      <td>0.01</td>\n",
       "      <td>0.12</td>\n",
       "      <td>0.09</td>\n",
       "      <td>0.09</td>\n",
       "    </tr>\n",
       "    <tr>\n",
       "      <th>...</th>\n",
       "      <td>...</td>\n",
       "      <td>...</td>\n",
       "      <td>...</td>\n",
       "      <td>...</td>\n",
       "      <td>...</td>\n",
       "      <td>...</td>\n",
       "      <td>...</td>\n",
       "      <td>...</td>\n",
       "      <td>...</td>\n",
       "      <td>...</td>\n",
       "      <td>...</td>\n",
       "      <td>...</td>\n",
       "      <td>...</td>\n",
       "      <td>...</td>\n",
       "      <td>...</td>\n",
       "      <td>...</td>\n",
       "      <td>...</td>\n",
       "      <td>...</td>\n",
       "      <td>...</td>\n",
       "      <td>...</td>\n",
       "      <td>...</td>\n",
       "    </tr>\n",
       "    <tr>\n",
       "      <th>2847</th>\n",
       "      <td>2848</td>\n",
       "      <td>Lovro Zvonarek</td>\n",
       "      <td>hr CRO</td>\n",
       "      <td>FW,MF</td>\n",
       "      <td>Bayern Munich</td>\n",
       "      <td>de Bundesliga</td>\n",
       "      <td>18.0</td>\n",
       "      <td>2005.0</td>\n",
       "      <td>5</td>\n",
       "      <td>1</td>\n",
       "      <td>...</td>\n",
       "      <td>0.55</td>\n",
       "      <td>0.00</td>\n",
       "      <td>0.55</td>\n",
       "      <td>0.55</td>\n",
       "      <td>0.55</td>\n",
       "      <td>0.04</td>\n",
       "      <td>0.12</td>\n",
       "      <td>0.15</td>\n",
       "      <td>0.04</td>\n",
       "      <td>0.15</td>\n",
       "    </tr>\n",
       "    <tr>\n",
       "      <th>2848</th>\n",
       "      <td>2849</td>\n",
       "      <td>Martin Ødegaard</td>\n",
       "      <td>no NOR</td>\n",
       "      <td>MF</td>\n",
       "      <td>Arsenal</td>\n",
       "      <td>eng Premier League</td>\n",
       "      <td>24.0</td>\n",
       "      <td>1998.0</td>\n",
       "      <td>35</td>\n",
       "      <td>35</td>\n",
       "      <td>...</td>\n",
       "      <td>0.23</td>\n",
       "      <td>0.29</td>\n",
       "      <td>0.52</td>\n",
       "      <td>0.17</td>\n",
       "      <td>0.47</td>\n",
       "      <td>0.22</td>\n",
       "      <td>0.28</td>\n",
       "      <td>0.50</td>\n",
       "      <td>0.17</td>\n",
       "      <td>0.45</td>\n",
       "    </tr>\n",
       "    <tr>\n",
       "      <th>2849</th>\n",
       "      <td>2850</td>\n",
       "      <td>Milan Đurić</td>\n",
       "      <td>ba BIH</td>\n",
       "      <td>FW</td>\n",
       "      <td>Hellas Verona</td>\n",
       "      <td>it Serie A</td>\n",
       "      <td>33.0</td>\n",
       "      <td>1990.0</td>\n",
       "      <td>20</td>\n",
       "      <td>13</td>\n",
       "      <td>...</td>\n",
       "      <td>0.37</td>\n",
       "      <td>0.07</td>\n",
       "      <td>0.45</td>\n",
       "      <td>0.30</td>\n",
       "      <td>0.37</td>\n",
       "      <td>0.34</td>\n",
       "      <td>0.09</td>\n",
       "      <td>0.43</td>\n",
       "      <td>0.16</td>\n",
       "      <td>0.25</td>\n",
       "    </tr>\n",
       "    <tr>\n",
       "      <th>2850</th>\n",
       "      <td>2851</td>\n",
       "      <td>Milan Đurić</td>\n",
       "      <td>ba BIH</td>\n",
       "      <td>FW</td>\n",
       "      <td>Monza</td>\n",
       "      <td>it Serie A</td>\n",
       "      <td>33.0</td>\n",
       "      <td>1990.0</td>\n",
       "      <td>17</td>\n",
       "      <td>13</td>\n",
       "      <td>...</td>\n",
       "      <td>0.29</td>\n",
       "      <td>0.07</td>\n",
       "      <td>0.36</td>\n",
       "      <td>0.29</td>\n",
       "      <td>0.36</td>\n",
       "      <td>0.21</td>\n",
       "      <td>0.05</td>\n",
       "      <td>0.26</td>\n",
       "      <td>0.21</td>\n",
       "      <td>0.26</td>\n",
       "    </tr>\n",
       "    <tr>\n",
       "      <th>2851</th>\n",
       "      <td>2852</td>\n",
       "      <td>Mateusz Łęgowski</td>\n",
       "      <td>pl POL</td>\n",
       "      <td>MF</td>\n",
       "      <td>Salernitana</td>\n",
       "      <td>it Serie A</td>\n",
       "      <td>20.0</td>\n",
       "      <td>2003.0</td>\n",
       "      <td>29</td>\n",
       "      <td>10</td>\n",
       "      <td>...</td>\n",
       "      <td>0.00</td>\n",
       "      <td>0.00</td>\n",
       "      <td>0.00</td>\n",
       "      <td>0.00</td>\n",
       "      <td>0.00</td>\n",
       "      <td>0.02</td>\n",
       "      <td>0.02</td>\n",
       "      <td>0.04</td>\n",
       "      <td>0.02</td>\n",
       "      <td>0.04</td>\n",
       "    </tr>\n",
       "  </tbody>\n",
       "</table>\n",
       "<p>2852 rows × 37 columns</p>\n",
       "</div>"
      ],
      "text/plain": [
       "        Rk             Player   Nation    Pos           Squad  \\\n",
       "0        1         Max Aarons  eng ENG     DF     Bournemouth   \n",
       "1        2   Brenden Aaronson   us USA  MF,FW    Union Berlin   \n",
       "2        3    Paxten Aaronson   us USA     MF  Eint Frankfurt   \n",
       "3        4  Keyliane Abdallah   fr FRA     FW       Marseille   \n",
       "4        5   Yunis Abdelhamid   ma MAR     DF           Reims   \n",
       "...    ...                ...      ...    ...             ...   \n",
       "2847  2848     Lovro Zvonarek   hr CRO  FW,MF   Bayern Munich   \n",
       "2848  2849    Martin Ødegaard   no NOR     MF         Arsenal   \n",
       "2849  2850        Milan Đurić   ba BIH     FW   Hellas Verona   \n",
       "2850  2851        Milan Đurić   ba BIH     FW           Monza   \n",
       "2851  2852   Mateusz Łęgowski   pl POL     MF     Salernitana   \n",
       "\n",
       "                    Comp   Age    Born  MP  Starts  ...  Gls_90  Ast_90  \\\n",
       "0     eng Premier League  23.0  2000.0  20      13  ...    0.00    0.07   \n",
       "1          de Bundesliga  22.0  2000.0  30      14  ...    0.14    0.14   \n",
       "2          de Bundesliga  19.0  2003.0   7       1  ...    0.00    0.89   \n",
       "3             fr Ligue 1  17.0  2006.0   1       0  ...    0.00    0.00   \n",
       "4             fr Ligue 1  35.0  1987.0  31      31  ...    0.13    0.00   \n",
       "...                  ...   ...     ...  ..     ...  ...     ...     ...   \n",
       "2847       de Bundesliga  18.0  2005.0   5       1  ...    0.55    0.00   \n",
       "2848  eng Premier League  24.0  1998.0  35      35  ...    0.23    0.29   \n",
       "2849          it Serie A  33.0  1990.0  20      13  ...    0.37    0.07   \n",
       "2850          it Serie A  33.0  1990.0  17      13  ...    0.29    0.07   \n",
       "2851          it Serie A  20.0  2003.0  29      10  ...    0.00    0.00   \n",
       "\n",
       "      G+A_90  G-PK_90  G+A-PK_90  xG_90  xAG_90  xG+xAG_90  npxG_90  \\\n",
       "0       0.07     0.00       0.07   0.00    0.06       0.06     0.00   \n",
       "1       0.28     0.14       0.28   0.14    0.13       0.27     0.14   \n",
       "2       0.89     0.00       0.89   0.11    0.07       0.19     0.11   \n",
       "3       0.00     0.00       0.00   0.00    0.00       0.00     0.00   \n",
       "4       0.13     0.10       0.10   0.11    0.01       0.12     0.09   \n",
       "...      ...      ...        ...    ...     ...        ...      ...   \n",
       "2847    0.55     0.55       0.55   0.04    0.12       0.15     0.04   \n",
       "2848    0.52     0.17       0.47   0.22    0.28       0.50     0.17   \n",
       "2849    0.45     0.30       0.37   0.34    0.09       0.43     0.16   \n",
       "2850    0.36     0.29       0.36   0.21    0.05       0.26     0.21   \n",
       "2851    0.00     0.00       0.00   0.02    0.02       0.04     0.02   \n",
       "\n",
       "      npxG+xAG_90  \n",
       "0            0.06  \n",
       "1            0.27  \n",
       "2            0.19  \n",
       "3            0.00  \n",
       "4            0.09  \n",
       "...           ...  \n",
       "2847         0.15  \n",
       "2848         0.45  \n",
       "2849         0.25  \n",
       "2850         0.26  \n",
       "2851         0.04  \n",
       "\n",
       "[2852 rows x 37 columns]"
      ]
     },
     "execution_count": 303,
     "metadata": {},
     "output_type": "execute_result"
    }
   ],
   "source": [
    "archivo = \"top5-players.csv\"\n",
    "\n",
    "# Leer datos del archivo\n",
    "ds = pd.read_csv(archivo)\n",
    "ds"
   ]
  },
  {
   "cell_type": "code",
   "execution_count": 304,
   "metadata": {},
   "outputs": [
    {
     "data": {
      "text/plain": [
       "Index(['Rk', 'Player', 'Nation', 'Pos', 'Squad', 'Comp', 'Age', 'Born', 'MP',\n",
       "       'Starts', 'Min', '90s', 'Gls', 'Ast', 'G+A', 'G-PK', 'PK', 'PKatt',\n",
       "       'CrdY', 'CrdR', 'xG', 'npxG', 'xAG', 'npxG+xAG', 'PrgC', 'PrgP', 'PrgR',\n",
       "       'Gls_90', 'Ast_90', 'G+A_90', 'G-PK_90', 'G+A-PK_90', 'xG_90', 'xAG_90',\n",
       "       'xG+xAG_90', 'npxG_90', 'npxG+xAG_90'],\n",
       "      dtype='object')"
      ]
     },
     "execution_count": 304,
     "metadata": {},
     "output_type": "execute_result"
    }
   ],
   "source": [
    "ds.columns"
   ]
  },
  {
   "cell_type": "code",
   "execution_count": 305,
   "metadata": {},
   "outputs": [
    {
     "data": {
      "text/html": [
       "<div>\n",
       "<style scoped>\n",
       "    .dataframe tbody tr th:only-of-type {\n",
       "        vertical-align: middle;\n",
       "    }\n",
       "\n",
       "    .dataframe tbody tr th {\n",
       "        vertical-align: top;\n",
       "    }\n",
       "\n",
       "    .dataframe thead th {\n",
       "        text-align: right;\n",
       "    }\n",
       "</style>\n",
       "<table border=\"1\" class=\"dataframe\">\n",
       "  <thead>\n",
       "    <tr style=\"text-align: right;\">\n",
       "      <th></th>\n",
       "      <th>Age</th>\n",
       "      <th>Ast</th>\n",
       "      <th>Ast_90</th>\n",
       "    </tr>\n",
       "  </thead>\n",
       "  <tbody>\n",
       "    <tr>\n",
       "      <th>0</th>\n",
       "      <td>23.0</td>\n",
       "      <td>1</td>\n",
       "      <td>0.07</td>\n",
       "    </tr>\n",
       "    <tr>\n",
       "      <th>1</th>\n",
       "      <td>22.0</td>\n",
       "      <td>2</td>\n",
       "      <td>0.14</td>\n",
       "    </tr>\n",
       "    <tr>\n",
       "      <th>2</th>\n",
       "      <td>19.0</td>\n",
       "      <td>1</td>\n",
       "      <td>0.89</td>\n",
       "    </tr>\n",
       "    <tr>\n",
       "      <th>3</th>\n",
       "      <td>17.0</td>\n",
       "      <td>0</td>\n",
       "      <td>0.00</td>\n",
       "    </tr>\n",
       "    <tr>\n",
       "      <th>4</th>\n",
       "      <td>35.0</td>\n",
       "      <td>0</td>\n",
       "      <td>0.00</td>\n",
       "    </tr>\n",
       "    <tr>\n",
       "      <th>...</th>\n",
       "      <td>...</td>\n",
       "      <td>...</td>\n",
       "      <td>...</td>\n",
       "    </tr>\n",
       "    <tr>\n",
       "      <th>2847</th>\n",
       "      <td>18.0</td>\n",
       "      <td>0</td>\n",
       "      <td>0.00</td>\n",
       "    </tr>\n",
       "    <tr>\n",
       "      <th>2848</th>\n",
       "      <td>24.0</td>\n",
       "      <td>10</td>\n",
       "      <td>0.29</td>\n",
       "    </tr>\n",
       "    <tr>\n",
       "      <th>2849</th>\n",
       "      <td>33.0</td>\n",
       "      <td>1</td>\n",
       "      <td>0.07</td>\n",
       "    </tr>\n",
       "    <tr>\n",
       "      <th>2850</th>\n",
       "      <td>33.0</td>\n",
       "      <td>1</td>\n",
       "      <td>0.07</td>\n",
       "    </tr>\n",
       "    <tr>\n",
       "      <th>2851</th>\n",
       "      <td>20.0</td>\n",
       "      <td>0</td>\n",
       "      <td>0.00</td>\n",
       "    </tr>\n",
       "  </tbody>\n",
       "</table>\n",
       "<p>2852 rows × 3 columns</p>\n",
       "</div>"
      ],
      "text/plain": [
       "       Age  Ast  Ast_90\n",
       "0     23.0    1    0.07\n",
       "1     22.0    2    0.14\n",
       "2     19.0    1    0.89\n",
       "3     17.0    0    0.00\n",
       "4     35.0    0    0.00\n",
       "...    ...  ...     ...\n",
       "2847  18.0    0    0.00\n",
       "2848  24.0   10    0.29\n",
       "2849  33.0    1    0.07\n",
       "2850  33.0    1    0.07\n",
       "2851  20.0    0    0.00\n",
       "\n",
       "[2852 rows x 3 columns]"
      ]
     },
     "execution_count": 305,
     "metadata": {},
     "output_type": "execute_result"
    }
   ],
   "source": [
    "dsNum= ds[[\"Age\", \"Ast\", \"Ast_90\"]]\n",
    "dsNum"
   ]
  },
  {
   "cell_type": "code",
   "execution_count": 306,
   "metadata": {},
   "outputs": [
    {
     "data": {
      "text/html": [
       "<div>\n",
       "<style scoped>\n",
       "    .dataframe tbody tr th:only-of-type {\n",
       "        vertical-align: middle;\n",
       "    }\n",
       "\n",
       "    .dataframe tbody tr th {\n",
       "        vertical-align: top;\n",
       "    }\n",
       "\n",
       "    .dataframe thead th {\n",
       "        text-align: right;\n",
       "    }\n",
       "</style>\n",
       "<table border=\"1\" class=\"dataframe\">\n",
       "  <thead>\n",
       "    <tr style=\"text-align: right;\">\n",
       "      <th></th>\n",
       "      <th>Age</th>\n",
       "      <th>Ast</th>\n",
       "      <th>Ast_90</th>\n",
       "    </tr>\n",
       "  </thead>\n",
       "  <tbody>\n",
       "    <tr>\n",
       "      <th>0</th>\n",
       "      <td>23.0</td>\n",
       "      <td>1</td>\n",
       "      <td>0.07</td>\n",
       "    </tr>\n",
       "    <tr>\n",
       "      <th>1</th>\n",
       "      <td>22.0</td>\n",
       "      <td>2</td>\n",
       "      <td>0.14</td>\n",
       "    </tr>\n",
       "    <tr>\n",
       "      <th>2</th>\n",
       "      <td>19.0</td>\n",
       "      <td>1</td>\n",
       "      <td>0.89</td>\n",
       "    </tr>\n",
       "    <tr>\n",
       "      <th>3</th>\n",
       "      <td>17.0</td>\n",
       "      <td>0</td>\n",
       "      <td>0.00</td>\n",
       "    </tr>\n",
       "    <tr>\n",
       "      <th>4</th>\n",
       "      <td>35.0</td>\n",
       "      <td>0</td>\n",
       "      <td>0.00</td>\n",
       "    </tr>\n",
       "  </tbody>\n",
       "</table>\n",
       "</div>"
      ],
      "text/plain": [
       "    Age  Ast  Ast_90\n",
       "0  23.0    1    0.07\n",
       "1  22.0    2    0.14\n",
       "2  19.0    1    0.89\n",
       "3  17.0    0    0.00\n",
       "4  35.0    0    0.00"
      ]
     },
     "execution_count": 306,
     "metadata": {},
     "output_type": "execute_result"
    }
   ],
   "source": [
    "dsNum.head()"
   ]
  },
  {
   "cell_type": "code",
   "execution_count": 307,
   "metadata": {},
   "outputs": [
    {
     "data": {
      "image/png": "[encoded data removed]",
      "text/plain": [
       "<Figure size 432x288 with 4 Axes>"
      ]
     },
     "metadata": {
      "needs_background": "light"
     },
     "output_type": "display_data"
    }
   ],
   "source": [
    "dsNum.hist()\n",
    "plt.show()"
   ]
  },
  {
   "cell_type": "code",
   "execution_count": 308,
   "metadata": {},
   "outputs": [
    {
     "data": {
      "image/png": "[encoded data removed]",
      "text/plain": [
       "<Figure size 720x720 with 4 Axes>"
      ]
     },
     "metadata": {
      "needs_background": "light"
     },
     "output_type": "display_data"
    }
   ],
   "source": [
    "fig, axs = plt.subplots(2, 2, figsize=(10, 10))\n",
    "\n",
    "for i, e in enumerate(dsNum[[\"Age\", \"Ast\", \"Ast_90\"]]):\n",
    "    axs[i // 2, i % 2].scatter(dsNum[e], dsNum[\"Age\"], color=\"blue\")\n",
    "    axs[i // 2, i % 2].set_xlabel(e)\n",
    "    axs[i // 2, i % 2].set_ylabel(\"Age\")"
   ]
  },
  {
   "cell_type": "code",
   "execution_count": 309,
   "metadata": {},
   "outputs": [
    {
     "data": {
      "text/plain": [
       "Text(0.5, 1.0, 'Age')"
      ]
     },
     "execution_count": 309,
     "metadata": {},
     "output_type": "execute_result"
    },
    {
     "data": {
      "image/png": "[encoded data removed]",
      "text/plain": [
       "<Figure size 864x432 with 1 Axes>"
      ]
     },
     "metadata": {
      "needs_background": "light"
     },
     "output_type": "display_data"
    }
   ],
   "source": [
    "plt.figure(figsize=(12, 6))\n",
    "plt.subplot(1, 2, 1)\n",
    "sns.histplot(dsNum[\"Age\"], bins=20, kde=True)\n",
    "plt.title(\"Age\")"
   ]
  },
  {
   "cell_type": "code",
   "execution_count": 310,
   "metadata": {},
   "outputs": [
    {
     "data": {
      "text/plain": [
       "Text(0.5, 1.0, 'Ast')"
      ]
     },
     "execution_count": 310,
     "metadata": {},
     "output_type": "execute_result"
    },
    {
     "data": {
      "image/png": "[encoded data removed]",
      "text/plain": [
       "<Figure size 864x432 with 1 Axes>"
      ]
     },
     "metadata": {
      "needs_background": "light"
     },
     "output_type": "display_data"
    }
   ],
   "source": [
    "plt.figure(figsize=(12, 6))\n",
    "plt.subplot(1, 2, 1)\n",
    "sns.histplot(dsNum[\"Ast\"], bins=20, kde=True)\n",
    "plt.title(\"Ast\")"
   ]
  },
  {
   "cell_type": "markdown",
   "metadata": {},
   "source": [
    "# Train Test split"
   ]
  },
  {
   "cell_type": "code",
   "execution_count": 311,
   "metadata": {},
   "outputs": [
    {
     "data": {
      "text/plain": [
       "(       Age  Ast  Ast_90\n",
       " 0     23.0    1    0.07\n",
       " 1     22.0    2    0.14\n",
       " 2     19.0    1    0.89\n",
       " 3     17.0    0    0.00\n",
       " 4     35.0    0    0.00\n",
       " ...    ...  ...     ...\n",
       " 2847  18.0    0    0.00\n",
       " 2848  24.0   10    0.29\n",
       " 2849  33.0    1    0.07\n",
       " 2850  33.0    1    0.07\n",
       " 2851  20.0    0    0.00\n",
       " \n",
       " [2852 rows x 3 columns], 0       False\n",
       " 1        True\n",
       " 2       False\n",
       " 3       False\n",
       " 4        True\n",
       "         ...  \n",
       " 2847    False\n",
       " 2848     True\n",
       " 2849     True\n",
       " 2850     True\n",
       " 2851    False\n",
       " Name: Gls, Length: 2852, dtype: bool)"
      ]
     },
     "execution_count": 311,
     "metadata": {},
     "output_type": "execute_result"
    }
   ],
   "source": [
    "X = ds[[\"Age\", \"Ast\", \"Ast_90\"]]  # Features\n",
    "y = ds[\"Gls\"] > ds[\"Gls\"].mean()\n",
    "\n",
    "X = X.fillna(0)\n",
    "\n",
    "X, y"
   ]
  },
  {
   "cell_type": "code",
   "execution_count": 312,
   "metadata": {},
   "outputs": [
    {
     "name": "stdout",
     "output_type": "stream",
     "text": [
      "(2852, 3)\n"
     ]
    },
    {
     "data": {
      "text/plain": [
       "((2281, 3), (571, 3), (2281,), (571,))"
      ]
     },
     "execution_count": 312,
     "metadata": {},
     "output_type": "execute_result"
    }
   ],
   "source": [
    "print(X.shape)\n",
    "\n",
    "X_train, X_test, y_train, y_test = train_test_split(\n",
    "    X, y, test_size=0.2, random_state=SEED\n",
    ")\n",
    "\n",
    "X_train.shape, X_test.shape, y_train.shape, y_test.shape"
   ]
  },
  {
   "cell_type": "markdown",
   "metadata": {},
   "source": [
    "# Logistic Regression (numerical tree)"
   ]
  },
  {
   "cell_type": "markdown",
   "metadata": {},
   "source": [
    "## Training"
   ]
  },
  {
   "cell_type": "code",
   "execution_count": 313,
   "metadata": {},
   "outputs": [
    {
     "data": {
      "text/plain": [
       "LogisticRegression()"
      ]
     },
     "execution_count": 313,
     "metadata": {},
     "output_type": "execute_result"
    }
   ],
   "source": [
    "log_model = LogisticRegression()\n",
    "log_model.fit(X_train, y_train.values.ravel())"
   ]
  },
  {
   "cell_type": "markdown",
   "metadata": {},
   "source": [
    "## Prediction"
   ]
  },
  {
   "cell_type": "code",
   "execution_count": 314,
   "metadata": {},
   "outputs": [],
   "source": [
    "y_pred = log_model.predict(X_test)"
   ]
  },
  {
   "cell_type": "code",
   "execution_count": 315,
   "metadata": {},
   "outputs": [
    {
     "data": {
      "text/plain": [
       "False    405\n",
       "True     166\n",
       "Name: Gls, dtype: int64"
      ]
     },
     "execution_count": 315,
     "metadata": {},
     "output_type": "execute_result"
    }
   ],
   "source": [
    "y_test.value_counts()"
   ]
  },
  {
   "cell_type": "markdown",
   "metadata": {},
   "source": [
    "## Confusion Matrix"
   ]
  },
  {
   "cell_type": "code",
   "execution_count": 316,
   "metadata": {},
   "outputs": [
    {
     "name": "stdout",
     "output_type": "stream",
     "text": [
      "Accuracy: 0.7740805604203153\n"
     ]
    },
    {
     "data": {
      "image/png": "[encoded data removed]",
      "text/plain": [
       "<Figure size 720x432 with 2 Axes>"
      ]
     },
     "metadata": {
      "needs_background": "light"
     },
     "output_type": "display_data"
    }
   ],
   "source": [
    "accuracy = accuracy_score(y_test, y_pred)\n",
    "print(\"Accuracy:\", accuracy)\n",
    "\n",
    "cm = confusion_matrix(y_test, y_pred)\n",
    "\n",
    "fig, ax = plt.subplots(figsize=(10, 6))\n",
    "sns.heatmap(cm, annot=True, ax=ax)\n",
    "_ = plt.xlabel(\"Predicted\")\n",
    "_ = plt.ylabel(\"Actual\")"
   ]
  },
  {
   "cell_type": "markdown",
   "metadata": {},
   "source": [
    "## ROC AUC"
   ]
  },
  {
   "cell_type": "code",
   "execution_count": 317,
   "metadata": {},
   "outputs": [
    {
     "data": {
      "text/plain": [
       "0.6701026327532351"
      ]
     },
     "execution_count": 317,
     "metadata": {},
     "output_type": "execute_result"
    }
   ],
   "source": [
    "roc_auc_score(y_test, y_pred)"
   ]
  },
  {
   "cell_type": "markdown",
   "metadata": {},
   "source": [
    "## Accuracy"
   ]
  },
  {
   "cell_type": "code",
   "execution_count": 318,
   "metadata": {},
   "outputs": [
    {
     "data": {
      "text/plain": [
       "0.7740805604203153"
      ]
     },
     "execution_count": 318,
     "metadata": {},
     "output_type": "execute_result"
    }
   ],
   "source": [
    "accuracy_score(y_test, y_pred)"
   ]
  },
  {
   "cell_type": "markdown",
   "metadata": {},
   "source": [
    "## Precision"
   ]
  },
  {
   "cell_type": "code",
   "execution_count": 319,
   "metadata": {},
   "outputs": [
    {
     "data": {
      "text/plain": [
       "0.6796116504854369"
      ]
     },
     "execution_count": 319,
     "metadata": {},
     "output_type": "execute_result"
    }
   ],
   "source": [
    "precision_score(y_test, y_pred)"
   ]
  },
  {
   "cell_type": "markdown",
   "metadata": {},
   "source": [
    "## Feature Importances "
   ]
  },
  {
   "cell_type": "code",
   "execution_count": 320,
   "metadata": {},
   "outputs": [
    {
     "data": {
      "text/plain": [
       "array([[0.02849559, 0.75955279, 1.29972732]])"
      ]
     },
     "execution_count": 320,
     "metadata": {},
     "output_type": "execute_result"
    }
   ],
   "source": [
    "abs(log_model.coef_)"
   ]
  },
  {
   "cell_type": "code",
   "execution_count": 321,
   "metadata": {},
   "outputs": [
    {
     "data": {
      "text/plain": [
       "Index(['Age', 'Ast', 'Ast_90'], dtype='object')"
      ]
     },
     "execution_count": 321,
     "metadata": {},
     "output_type": "execute_result"
    }
   ],
   "source": [
    "X_train.columns"
   ]
  },
  {
   "cell_type": "code",
   "execution_count": 357,
   "metadata": {},
   "outputs": [
    {
     "ename": "IndexError",
     "evalue": "index 10 is out of bounds for axis 0 with size 1",
     "output_type": "error",
     "traceback": [
      "\u001b[1;31m---------------------------------------------------------------------------\u001b[0m",
      "\u001b[1;31mIndexError\u001b[0m                                Traceback (most recent call last)",
      "\u001b[1;32m<ipython-input-357-bbcfd364f6e5>\u001b[0m in \u001b[0;36m<module>\u001b[1;34m\u001b[0m\n\u001b[0;32m      4\u001b[0m \u001b[0mplt\u001b[0m\u001b[1;33m.\u001b[0m\u001b[0mfigure\u001b[0m\u001b[1;33m(\u001b[0m\u001b[0mfigsize\u001b[0m\u001b[1;33m=\u001b[0m\u001b[1;33m(\u001b[0m\u001b[1;36m10\u001b[0m\u001b[1;33m,\u001b[0m \u001b[1;36m6\u001b[0m\u001b[1;33m)\u001b[0m\u001b[1;33m)\u001b[0m\u001b[1;33m\u001b[0m\u001b[0m\n\u001b[0;32m      5\u001b[0m \u001b[0mplt\u001b[0m\u001b[1;33m.\u001b[0m\u001b[0mtitle\u001b[0m\u001b[1;33m(\u001b[0m\u001b[1;34m\"Feature Importances\"\u001b[0m\u001b[1;33m)\u001b[0m\u001b[1;33m\u001b[0m\u001b[0m\n\u001b[1;32m----> 6\u001b[1;33m \u001b[0mplt\u001b[0m\u001b[1;33m.\u001b[0m\u001b[0mbarh\u001b[0m\u001b[1;33m(\u001b[0m\u001b[0mrange\u001b[0m\u001b[1;33m(\u001b[0m\u001b[0mX_train\u001b[0m\u001b[1;33m.\u001b[0m\u001b[0mshape\u001b[0m\u001b[1;33m[\u001b[0m\u001b[1;36m1\u001b[0m\u001b[1;33m]\u001b[0m\u001b[1;33m)\u001b[0m\u001b[1;33m,\u001b[0m \u001b[0mimportances\u001b[0m\u001b[1;33m[\u001b[0m\u001b[0mindices\u001b[0m\u001b[1;33m]\u001b[0m\u001b[1;33m,\u001b[0m \u001b[0malign\u001b[0m\u001b[1;33m=\u001b[0m\u001b[1;34m\"center\"\u001b[0m\u001b[1;33m)\u001b[0m\u001b[1;33m\u001b[0m\u001b[0m\n\u001b[0m\u001b[0;32m      7\u001b[0m \u001b[0mplt\u001b[0m\u001b[1;33m.\u001b[0m\u001b[0myticks\u001b[0m\u001b[1;33m(\u001b[0m\u001b[0mrange\u001b[0m\u001b[1;33m(\u001b[0m\u001b[0mX_train\u001b[0m\u001b[1;33m.\u001b[0m\u001b[0mshape\u001b[0m\u001b[1;33m[\u001b[0m\u001b[1;36m1\u001b[0m\u001b[1;33m]\u001b[0m\u001b[1;33m)\u001b[0m\u001b[1;33m,\u001b[0m \u001b[0mX_train\u001b[0m\u001b[1;33m.\u001b[0m\u001b[0mcolumns\u001b[0m\u001b[1;33m[\u001b[0m\u001b[0mindices\u001b[0m\u001b[1;33m]\u001b[0m\u001b[1;33m)\u001b[0m\u001b[1;33m\u001b[0m\u001b[0m\n\u001b[0;32m      8\u001b[0m \u001b[0mplt\u001b[0m\u001b[1;33m.\u001b[0m\u001b[0mxlabel\u001b[0m\u001b[1;33m(\u001b[0m\u001b[1;34m\"Relative Importance\"\u001b[0m\u001b[1;33m)\u001b[0m\u001b[1;33m\u001b[0m\u001b[0m\n",
      "\u001b[1;31mIndexError\u001b[0m: index 10 is out of bounds for axis 0 with size 1"
     ]
    },
    {
     "data": {
      "image/png": "[encoded data removed]",
      "text/plain": [
       "<Figure size 720x432 with 1 Axes>"
      ]
     },
     "metadata": {
      "needs_background": "light"
     },
     "output_type": "display_data"
    }
   ],
   "source": [
    "importances = abs(log_model.coef_)[::-1]\n",
    "indices = np.argsort(importances)\n",
    "\n",
    "plt.figure(figsize=(10, 6))\n",
    "plt.title(\"Feature Importances\")\n",
    "plt.barh(range(X_train.shape[1]), importances[indices], align=\"center\")\n",
    "plt.yticks(range(X_train.shape[1]), X_train.columns[indices])\n",
    "plt.xlabel(\"Relative Importance\")\n",
    "plt.show()"
   ]
  },
  {
   "cell_type": "markdown",
   "metadata": {},
   "source": [
    "# Decision tree (numeral tree)"
   ]
  },
  {
   "cell_type": "markdown",
   "metadata": {},
   "source": [
    "## Training"
   ]
  },
  {
   "cell_type": "code",
   "execution_count": 323,
   "metadata": {},
   "outputs": [
    {
     "data": {
      "text/plain": [
       "DecisionTreeClassifier()"
      ]
     },
     "execution_count": 323,
     "metadata": {},
     "output_type": "execute_result"
    }
   ],
   "source": [
    "dt_model = DecisionTreeClassifier()\n",
    "dt_model.fit(X_train, y_train)"
   ]
  },
  {
   "cell_type": "markdown",
   "metadata": {},
   "source": [
    "## Prediction"
   ]
  },
  {
   "cell_type": "code",
   "execution_count": 324,
   "metadata": {},
   "outputs": [],
   "source": [
    "y_pred = dt_model.predict(X_test)"
   ]
  },
  {
   "cell_type": "code",
   "execution_count": 325,
   "metadata": {},
   "outputs": [
    {
     "data": {
      "text/plain": [
       "False    405\n",
       "True     166\n",
       "Name: Gls, dtype: int64"
      ]
     },
     "execution_count": 325,
     "metadata": {},
     "output_type": "execute_result"
    }
   ],
   "source": [
    "y_test.value_counts()"
   ]
  },
  {
   "cell_type": "markdown",
   "metadata": {},
   "source": [
    "## Confusion Matrix"
   ]
  },
  {
   "cell_type": "code",
   "execution_count": 326,
   "metadata": {},
   "outputs": [
    {
     "name": "stdout",
     "output_type": "stream",
     "text": [
      "Accuracy: 0.7443082311733801\n",
      "              precision    recall  f1-score   support\n",
      "\n",
      "       False       0.79      0.88      0.83       405\n",
      "        True       0.58      0.42      0.49       166\n",
      "\n",
      "    accuracy                           0.74       571\n",
      "   macro avg       0.69      0.65      0.66       571\n",
      "weighted avg       0.73      0.74      0.73       571\n",
      "\n"
     ]
    },
    {
     "data": {
      "image/png": "[encoded data removed]",
      "text/plain": [
       "<Figure size 720x432 with 2 Axes>"
      ]
     },
     "metadata": {
      "needs_background": "light"
     },
     "output_type": "display_data"
    }
   ],
   "source": [
    "accuracy = accuracy_score(y_test, y_pred)\n",
    "cm = confusion_matrix(y_test, y_pred)\n",
    "\n",
    "print(\"Accuracy:\", accuracy)\n",
    "\n",
    "fig, ax = plt.subplots(figsize=(10, 6))\n",
    "sns.heatmap(cm, annot=True, ax=ax)\n",
    "_ = plt.xlabel(\"Predicted\")\n",
    "_ = plt.ylabel(\"Actual\")\n",
    "\n",
    "print(classification_report(y_test, y_pred))"
   ]
  },
  {
   "cell_type": "markdown",
   "metadata": {},
   "source": [
    "## ROC AUC"
   ]
  },
  {
   "cell_type": "code",
   "execution_count": 327,
   "metadata": {},
   "outputs": [
    {
     "data": {
      "text/plain": [
       "0.647337498140711"
      ]
     },
     "execution_count": 327,
     "metadata": {},
     "output_type": "execute_result"
    }
   ],
   "source": [
    "roc_auc_score(y_test, y_pred)"
   ]
  },
  {
   "cell_type": "markdown",
   "metadata": {},
   "source": [
    "## Accuracy"
   ]
  },
  {
   "cell_type": "code",
   "execution_count": 328,
   "metadata": {},
   "outputs": [
    {
     "data": {
      "text/plain": [
       "0.7443082311733801"
      ]
     },
     "execution_count": 328,
     "metadata": {},
     "output_type": "execute_result"
    }
   ],
   "source": [
    "accuracy_score(y_test, y_pred)"
   ]
  },
  {
   "cell_type": "markdown",
   "metadata": {},
   "source": [
    "## Precision"
   ]
  },
  {
   "cell_type": "code",
   "execution_count": 329,
   "metadata": {},
   "outputs": [
    {
     "data": {
      "text/plain": [
       "0.5847457627118644"
      ]
     },
     "execution_count": 329,
     "metadata": {},
     "output_type": "execute_result"
    }
   ],
   "source": [
    "precision_score(y_test, y_pred)"
   ]
  },
  {
   "cell_type": "markdown",
   "metadata": {},
   "source": [
    "## Feature Importances"
   ]
  },
  {
   "cell_type": "code",
   "execution_count": 330,
   "metadata": {},
   "outputs": [
    {
     "data": {
      "text/plain": [
       "Index(['Age', 'Ast', 'Ast_90'], dtype='object')"
      ]
     },
     "execution_count": 330,
     "metadata": {},
     "output_type": "execute_result"
    }
   ],
   "source": [
    "X_train.columns"
   ]
  },
  {
   "cell_type": "code",
   "execution_count": 331,
   "metadata": {},
   "outputs": [
    {
     "data": {
      "text/plain": [
       "array([0.252561 , 0.4981558, 0.2492832])"
      ]
     },
     "execution_count": 331,
     "metadata": {},
     "output_type": "execute_result"
    }
   ],
   "source": [
    "dt_model.feature_importances_"
   ]
  },
  {
   "cell_type": "code",
   "execution_count": 332,
   "metadata": {},
   "outputs": [
    {
     "data": {
      "image/png": "[encoded data removed]",
      "text/plain": [
       "<Figure size 720x432 with 1 Axes>"
      ]
     },
     "metadata": {
      "needs_background": "light"
     },
     "output_type": "display_data"
    }
   ],
   "source": [
    "importances = dt_model.feature_importances_[::-1]\n",
    "indices = np.argsort(importances)\n",
    "\n",
    "plt.figure(figsize=(10, 6))\n",
    "plt.title(\"Feature Importances\")\n",
    "plt.barh(range(X_train.shape[1]), importances[indices], align=\"center\")\n",
    "plt.yticks(range(X_train.shape[1]), X_train.columns[indices])\n",
    "plt.xlabel(\"Relative Importance\")\n",
    "plt.show()"
   ]
  },
  {
   "cell_type": "markdown",
   "metadata": {},
   "source": [
    "## One Hot Encoding"
   ]
  },
  {
   "cell_type": "code",
   "execution_count": 333,
   "metadata": {},
   "outputs": [
    {
     "data": {
      "text/html": [
       "<div>\n",
       "<style scoped>\n",
       "    .dataframe tbody tr th:only-of-type {\n",
       "        vertical-align: middle;\n",
       "    }\n",
       "\n",
       "    .dataframe tbody tr th {\n",
       "        vertical-align: top;\n",
       "    }\n",
       "\n",
       "    .dataframe thead th {\n",
       "        text-align: right;\n",
       "    }\n",
       "</style>\n",
       "<table border=\"1\" class=\"dataframe\">\n",
       "  <thead>\n",
       "    <tr style=\"text-align: right;\">\n",
       "      <th></th>\n",
       "      <th>Rk</th>\n",
       "      <th>Player</th>\n",
       "      <th>Nation</th>\n",
       "      <th>Squad</th>\n",
       "      <th>Age</th>\n",
       "      <th>Born</th>\n",
       "      <th>MP</th>\n",
       "      <th>Starts</th>\n",
       "      <th>Min</th>\n",
       "      <th>90s</th>\n",
       "      <th>...</th>\n",
       "      <th>Pos_FW,MF</th>\n",
       "      <th>Pos_GK</th>\n",
       "      <th>Pos_MF</th>\n",
       "      <th>Pos_MF,DF</th>\n",
       "      <th>Pos_MF,FW</th>\n",
       "      <th>Comp_de Bundesliga</th>\n",
       "      <th>Comp_eng Premier League</th>\n",
       "      <th>Comp_es La Liga</th>\n",
       "      <th>Comp_fr Ligue 1</th>\n",
       "      <th>Comp_it Serie A</th>\n",
       "    </tr>\n",
       "  </thead>\n",
       "  <tbody>\n",
       "    <tr>\n",
       "      <th>0</th>\n",
       "      <td>1</td>\n",
       "      <td>Max Aarons</td>\n",
       "      <td>eng ENG</td>\n",
       "      <td>Bournemouth</td>\n",
       "      <td>23.0</td>\n",
       "      <td>2000.0</td>\n",
       "      <td>20</td>\n",
       "      <td>13</td>\n",
       "      <td>1237</td>\n",
       "      <td>13.7</td>\n",
       "      <td>...</td>\n",
       "      <td>0</td>\n",
       "      <td>0</td>\n",
       "      <td>0</td>\n",
       "      <td>0</td>\n",
       "      <td>0</td>\n",
       "      <td>0</td>\n",
       "      <td>1</td>\n",
       "      <td>0</td>\n",
       "      <td>0</td>\n",
       "      <td>0</td>\n",
       "    </tr>\n",
       "    <tr>\n",
       "      <th>1</th>\n",
       "      <td>2</td>\n",
       "      <td>Brenden Aaronson</td>\n",
       "      <td>us USA</td>\n",
       "      <td>Union Berlin</td>\n",
       "      <td>22.0</td>\n",
       "      <td>2000.0</td>\n",
       "      <td>30</td>\n",
       "      <td>14</td>\n",
       "      <td>1267</td>\n",
       "      <td>14.1</td>\n",
       "      <td>...</td>\n",
       "      <td>0</td>\n",
       "      <td>0</td>\n",
       "      <td>0</td>\n",
       "      <td>0</td>\n",
       "      <td>1</td>\n",
       "      <td>1</td>\n",
       "      <td>0</td>\n",
       "      <td>0</td>\n",
       "      <td>0</td>\n",
       "      <td>0</td>\n",
       "    </tr>\n",
       "    <tr>\n",
       "      <th>2</th>\n",
       "      <td>3</td>\n",
       "      <td>Paxten Aaronson</td>\n",
       "      <td>us USA</td>\n",
       "      <td>Eint Frankfurt</td>\n",
       "      <td>19.0</td>\n",
       "      <td>2003.0</td>\n",
       "      <td>7</td>\n",
       "      <td>1</td>\n",
       "      <td>101</td>\n",
       "      <td>1.1</td>\n",
       "      <td>...</td>\n",
       "      <td>0</td>\n",
       "      <td>0</td>\n",
       "      <td>1</td>\n",
       "      <td>0</td>\n",
       "      <td>0</td>\n",
       "      <td>1</td>\n",
       "      <td>0</td>\n",
       "      <td>0</td>\n",
       "      <td>0</td>\n",
       "      <td>0</td>\n",
       "    </tr>\n",
       "    <tr>\n",
       "      <th>3</th>\n",
       "      <td>4</td>\n",
       "      <td>Keyliane Abdallah</td>\n",
       "      <td>fr FRA</td>\n",
       "      <td>Marseille</td>\n",
       "      <td>17.0</td>\n",
       "      <td>2006.0</td>\n",
       "      <td>1</td>\n",
       "      <td>0</td>\n",
       "      <td>4</td>\n",
       "      <td>0.0</td>\n",
       "      <td>...</td>\n",
       "      <td>0</td>\n",
       "      <td>0</td>\n",
       "      <td>0</td>\n",
       "      <td>0</td>\n",
       "      <td>0</td>\n",
       "      <td>0</td>\n",
       "      <td>0</td>\n",
       "      <td>0</td>\n",
       "      <td>1</td>\n",
       "      <td>0</td>\n",
       "    </tr>\n",
       "    <tr>\n",
       "      <th>4</th>\n",
       "      <td>5</td>\n",
       "      <td>Yunis Abdelhamid</td>\n",
       "      <td>ma MAR</td>\n",
       "      <td>Reims</td>\n",
       "      <td>35.0</td>\n",
       "      <td>1987.0</td>\n",
       "      <td>31</td>\n",
       "      <td>31</td>\n",
       "      <td>2781</td>\n",
       "      <td>30.9</td>\n",
       "      <td>...</td>\n",
       "      <td>0</td>\n",
       "      <td>0</td>\n",
       "      <td>0</td>\n",
       "      <td>0</td>\n",
       "      <td>0</td>\n",
       "      <td>0</td>\n",
       "      <td>0</td>\n",
       "      <td>0</td>\n",
       "      <td>1</td>\n",
       "      <td>0</td>\n",
       "    </tr>\n",
       "    <tr>\n",
       "      <th>...</th>\n",
       "      <td>...</td>\n",
       "      <td>...</td>\n",
       "      <td>...</td>\n",
       "      <td>...</td>\n",
       "      <td>...</td>\n",
       "      <td>...</td>\n",
       "      <td>...</td>\n",
       "      <td>...</td>\n",
       "      <td>...</td>\n",
       "      <td>...</td>\n",
       "      <td>...</td>\n",
       "      <td>...</td>\n",
       "      <td>...</td>\n",
       "      <td>...</td>\n",
       "      <td>...</td>\n",
       "      <td>...</td>\n",
       "      <td>...</td>\n",
       "      <td>...</td>\n",
       "      <td>...</td>\n",
       "      <td>...</td>\n",
       "      <td>...</td>\n",
       "    </tr>\n",
       "    <tr>\n",
       "      <th>2847</th>\n",
       "      <td>2848</td>\n",
       "      <td>Lovro Zvonarek</td>\n",
       "      <td>hr CRO</td>\n",
       "      <td>Bayern Munich</td>\n",
       "      <td>18.0</td>\n",
       "      <td>2005.0</td>\n",
       "      <td>5</td>\n",
       "      <td>1</td>\n",
       "      <td>163</td>\n",
       "      <td>1.8</td>\n",
       "      <td>...</td>\n",
       "      <td>1</td>\n",
       "      <td>0</td>\n",
       "      <td>0</td>\n",
       "      <td>0</td>\n",
       "      <td>0</td>\n",
       "      <td>1</td>\n",
       "      <td>0</td>\n",
       "      <td>0</td>\n",
       "      <td>0</td>\n",
       "      <td>0</td>\n",
       "    </tr>\n",
       "    <tr>\n",
       "      <th>2848</th>\n",
       "      <td>2849</td>\n",
       "      <td>Martin Ødegaard</td>\n",
       "      <td>no NOR</td>\n",
       "      <td>Arsenal</td>\n",
       "      <td>24.0</td>\n",
       "      <td>1998.0</td>\n",
       "      <td>35</td>\n",
       "      <td>35</td>\n",
       "      <td>3091</td>\n",
       "      <td>34.3</td>\n",
       "      <td>...</td>\n",
       "      <td>0</td>\n",
       "      <td>0</td>\n",
       "      <td>1</td>\n",
       "      <td>0</td>\n",
       "      <td>0</td>\n",
       "      <td>0</td>\n",
       "      <td>1</td>\n",
       "      <td>0</td>\n",
       "      <td>0</td>\n",
       "      <td>0</td>\n",
       "    </tr>\n",
       "    <tr>\n",
       "      <th>2849</th>\n",
       "      <td>2850</td>\n",
       "      <td>Milan Đurić</td>\n",
       "      <td>ba BIH</td>\n",
       "      <td>Hellas Verona</td>\n",
       "      <td>33.0</td>\n",
       "      <td>1990.0</td>\n",
       "      <td>20</td>\n",
       "      <td>13</td>\n",
       "      <td>1204</td>\n",
       "      <td>13.4</td>\n",
       "      <td>...</td>\n",
       "      <td>0</td>\n",
       "      <td>0</td>\n",
       "      <td>0</td>\n",
       "      <td>0</td>\n",
       "      <td>0</td>\n",
       "      <td>0</td>\n",
       "      <td>0</td>\n",
       "      <td>0</td>\n",
       "      <td>0</td>\n",
       "      <td>1</td>\n",
       "    </tr>\n",
       "    <tr>\n",
       "      <th>2850</th>\n",
       "      <td>2851</td>\n",
       "      <td>Milan Đurić</td>\n",
       "      <td>ba BIH</td>\n",
       "      <td>Monza</td>\n",
       "      <td>33.0</td>\n",
       "      <td>1990.0</td>\n",
       "      <td>17</td>\n",
       "      <td>13</td>\n",
       "      <td>1257</td>\n",
       "      <td>14.0</td>\n",
       "      <td>...</td>\n",
       "      <td>0</td>\n",
       "      <td>0</td>\n",
       "      <td>0</td>\n",
       "      <td>0</td>\n",
       "      <td>0</td>\n",
       "      <td>0</td>\n",
       "      <td>0</td>\n",
       "      <td>0</td>\n",
       "      <td>0</td>\n",
       "      <td>1</td>\n",
       "    </tr>\n",
       "    <tr>\n",
       "      <th>2851</th>\n",
       "      <td>2852</td>\n",
       "      <td>Mateusz Łęgowski</td>\n",
       "      <td>pl POL</td>\n",
       "      <td>Salernitana</td>\n",
       "      <td>20.0</td>\n",
       "      <td>2003.0</td>\n",
       "      <td>29</td>\n",
       "      <td>10</td>\n",
       "      <td>1145</td>\n",
       "      <td>12.7</td>\n",
       "      <td>...</td>\n",
       "      <td>0</td>\n",
       "      <td>0</td>\n",
       "      <td>1</td>\n",
       "      <td>0</td>\n",
       "      <td>0</td>\n",
       "      <td>0</td>\n",
       "      <td>0</td>\n",
       "      <td>0</td>\n",
       "      <td>0</td>\n",
       "      <td>1</td>\n",
       "    </tr>\n",
       "  </tbody>\n",
       "</table>\n",
       "<p>2852 rows × 50 columns</p>\n",
       "</div>"
      ],
      "text/plain": [
       "        Rk             Player   Nation           Squad   Age    Born  MP  \\\n",
       "0        1         Max Aarons  eng ENG     Bournemouth  23.0  2000.0  20   \n",
       "1        2   Brenden Aaronson   us USA    Union Berlin  22.0  2000.0  30   \n",
       "2        3    Paxten Aaronson   us USA  Eint Frankfurt  19.0  2003.0   7   \n",
       "3        4  Keyliane Abdallah   fr FRA       Marseille  17.0  2006.0   1   \n",
       "4        5   Yunis Abdelhamid   ma MAR           Reims  35.0  1987.0  31   \n",
       "...    ...                ...      ...             ...   ...     ...  ..   \n",
       "2847  2848     Lovro Zvonarek   hr CRO   Bayern Munich  18.0  2005.0   5   \n",
       "2848  2849    Martin Ødegaard   no NOR         Arsenal  24.0  1998.0  35   \n",
       "2849  2850        Milan Đurić   ba BIH   Hellas Verona  33.0  1990.0  20   \n",
       "2850  2851        Milan Đurić   ba BIH           Monza  33.0  1990.0  17   \n",
       "2851  2852   Mateusz Łęgowski   pl POL     Salernitana  20.0  2003.0  29   \n",
       "\n",
       "      Starts   Min   90s  ...  Pos_FW,MF  Pos_GK  Pos_MF  Pos_MF,DF  \\\n",
       "0         13  1237  13.7  ...          0       0       0          0   \n",
       "1         14  1267  14.1  ...          0       0       0          0   \n",
       "2          1   101   1.1  ...          0       0       1          0   \n",
       "3          0     4   0.0  ...          0       0       0          0   \n",
       "4         31  2781  30.9  ...          0       0       0          0   \n",
       "...      ...   ...   ...  ...        ...     ...     ...        ...   \n",
       "2847       1   163   1.8  ...          1       0       0          0   \n",
       "2848      35  3091  34.3  ...          0       0       1          0   \n",
       "2849      13  1204  13.4  ...          0       0       0          0   \n",
       "2850      13  1257  14.0  ...          0       0       0          0   \n",
       "2851      10  1145  12.7  ...          0       0       1          0   \n",
       "\n",
       "      Pos_MF,FW  Comp_de Bundesliga  Comp_eng Premier League  Comp_es La Liga  \\\n",
       "0             0                   0                        1                0   \n",
       "1             1                   1                        0                0   \n",
       "2             0                   1                        0                0   \n",
       "3             0                   0                        0                0   \n",
       "4             0                   0                        0                0   \n",
       "...         ...                 ...                      ...              ...   \n",
       "2847          0                   1                        0                0   \n",
       "2848          0                   0                        1                0   \n",
       "2849          0                   0                        0                0   \n",
       "2850          0                   0                        0                0   \n",
       "2851          0                   0                        0                0   \n",
       "\n",
       "      Comp_fr Ligue 1  Comp_it Serie A  \n",
       "0                   0                0  \n",
       "1                   0                0  \n",
       "2                   0                0  \n",
       "3                   1                0  \n",
       "4                   1                0  \n",
       "...               ...              ...  \n",
       "2847                0                0  \n",
       "2848                0                0  \n",
       "2849                0                1  \n",
       "2850                0                1  \n",
       "2851                0                1  \n",
       "\n",
       "[2852 rows x 50 columns]"
      ]
     },
     "execution_count": 333,
     "metadata": {},
     "output_type": "execute_result"
    }
   ],
   "source": [
    "ds = pd.read_csv(\"top5-players.csv\")\n",
    "\n",
    "# Posiciones (Pos)\n",
    "ds = pd.get_dummies(ds, columns=[\"Pos\"])\n",
    "\n",
    "# Ligas (Comp)\n",
    "ds = pd.get_dummies(ds, columns=[\"Comp\"])\n",
    "\n",
    "ds\n"
   ]
  },
  {
   "cell_type": "code",
   "execution_count": 334,
   "metadata": {},
   "outputs": [
    {
     "data": {
      "text/plain": [
       "Index(['Rk', 'Player', 'Nation', 'Squad', 'Age', 'Born', 'MP', 'Starts', 'Min',\n",
       "       '90s', 'Gls', 'Ast', 'G+A', 'G-PK', 'PK', 'PKatt', 'CrdY', 'CrdR', 'xG',\n",
       "       'npxG', 'xAG', 'npxG+xAG', 'PrgC', 'PrgP', 'PrgR', 'Gls_90', 'Ast_90',\n",
       "       'G+A_90', 'G-PK_90', 'G+A-PK_90', 'xG_90', 'xAG_90', 'xG+xAG_90',\n",
       "       'npxG_90', 'npxG+xAG_90', 'Pos_DF', 'Pos_DF,FW', 'Pos_DF,MF', 'Pos_FW',\n",
       "       'Pos_FW,DF', 'Pos_FW,MF', 'Pos_GK', 'Pos_MF', 'Pos_MF,DF', 'Pos_MF,FW',\n",
       "       'Comp_de Bundesliga', 'Comp_eng Premier League', 'Comp_es La Liga',\n",
       "       'Comp_fr Ligue 1', 'Comp_it Serie A'],\n",
       "      dtype='object')"
      ]
     },
     "execution_count": 334,
     "metadata": {},
     "output_type": "execute_result"
    }
   ],
   "source": [
    "ds.columns"
   ]
  },
  {
   "cell_type": "markdown",
   "metadata": {},
   "source": [
    "## Train Test Split"
   ]
  },
  {
   "cell_type": "code",
   "execution_count": 335,
   "metadata": {},
   "outputs": [
    {
     "data": {
      "text/plain": [
       "(       Age  Ast  Ast_90  Pos_DF  Pos_DF,FW  Pos_DF,MF  Pos_FW  Pos_FW,DF  \\\n",
       " 0     23.0    1    0.07       1          0          0       0          0   \n",
       " 1     22.0    2    0.14       0          0          0       0          0   \n",
       " 2     19.0    1    0.89       0          0          0       0          0   \n",
       " 3     17.0    0    0.00       0          0          0       1          0   \n",
       " 4     35.0    0    0.00       1          0          0       0          0   \n",
       " ...    ...  ...     ...     ...        ...        ...     ...        ...   \n",
       " 2847  18.0    0    0.00       0          0          0       0          0   \n",
       " 2848  24.0   10    0.29       0          0          0       0          0   \n",
       " 2849  33.0    1    0.07       0          0          0       1          0   \n",
       " 2850  33.0    1    0.07       0          0          0       1          0   \n",
       " 2851  20.0    0    0.00       0          0          0       0          0   \n",
       " \n",
       "       Pos_FW,MF  Pos_GK  Pos_MF  Pos_MF,DF  Pos_MF,FW  Comp_de Bundesliga  \\\n",
       " 0             0       0       0          0          0                   0   \n",
       " 1             0       0       0          0          1                   1   \n",
       " 2             0       0       1          0          0                   1   \n",
       " 3             0       0       0          0          0                   0   \n",
       " 4             0       0       0          0          0                   0   \n",
       " ...         ...     ...     ...        ...        ...                 ...   \n",
       " 2847          1       0       0          0          0                   1   \n",
       " 2848          0       0       1          0          0                   0   \n",
       " 2849          0       0       0          0          0                   0   \n",
       " 2850          0       0       0          0          0                   0   \n",
       " 2851          0       0       1          0          0                   0   \n",
       " \n",
       "       Comp_eng Premier League  Comp_es La Liga  Comp_fr Ligue 1  \\\n",
       " 0                           1                0                0   \n",
       " 1                           0                0                0   \n",
       " 2                           0                0                0   \n",
       " 3                           0                0                1   \n",
       " 4                           0                0                1   \n",
       " ...                       ...              ...              ...   \n",
       " 2847                        0                0                0   \n",
       " 2848                        1                0                0   \n",
       " 2849                        0                0                0   \n",
       " 2850                        0                0                0   \n",
       " 2851                        0                0                0   \n",
       " \n",
       "       Comp_it Serie A  \n",
       " 0                   0  \n",
       " 1                   0  \n",
       " 2                   0  \n",
       " 3                   0  \n",
       " 4                   0  \n",
       " ...               ...  \n",
       " 2847                0  \n",
       " 2848                0  \n",
       " 2849                1  \n",
       " 2850                1  \n",
       " 2851                1  \n",
       " \n",
       " [2852 rows x 18 columns], 0       False\n",
       " 1        True\n",
       " 2       False\n",
       " 3       False\n",
       " 4        True\n",
       "         ...  \n",
       " 2847    False\n",
       " 2848     True\n",
       " 2849     True\n",
       " 2850     True\n",
       " 2851    False\n",
       " Name: Gls, Length: 2852, dtype: bool)"
      ]
     },
     "execution_count": 335,
     "metadata": {},
     "output_type": "execute_result"
    }
   ],
   "source": [
    "X = ds[[\"Age\", \"Ast\", \"Ast_90\", \"Pos_DF\", \"Pos_DF,FW\", \"Pos_DF,MF\", \"Pos_FW\",\n",
    "       \"Pos_FW,DF\", \"Pos_FW,MF\", \"Pos_GK\", \"Pos_MF\", \"Pos_MF,DF\", \"Pos_MF,FW\",\n",
    "       \"Comp_de Bundesliga\", \"Comp_eng Premier League\", \"Comp_es La Liga\",\n",
    "       \"Comp_fr Ligue 1\", \"Comp_it Serie A\"]]  # Features\n",
    "y = ds[\"Gls\"] > ds[\"Gls\"].mean()\n",
    "\n",
    "X = X.fillna(0)\n",
    "\n",
    "X, y"
   ]
  },
  {
   "cell_type": "code",
   "execution_count": 336,
   "metadata": {},
   "outputs": [
    {
     "name": "stdout",
     "output_type": "stream",
     "text": [
      "(2852, 18)\n"
     ]
    },
    {
     "data": {
      "text/plain": [
       "((2281, 18), (571, 18), (2281,), (571,))"
      ]
     },
     "execution_count": 336,
     "metadata": {},
     "output_type": "execute_result"
    }
   ],
   "source": [
    "print(X.shape)\n",
    "\n",
    "X_train, X_test, y_train, y_test = train_test_split(\n",
    "    X, y, test_size=0.2, random_state=SEED\n",
    ")\n",
    "\n",
    "X_train.shape, X_test.shape, y_train.shape, y_test.shape"
   ]
  },
  {
   "cell_type": "markdown",
   "metadata": {},
   "source": [
    "# Logistic Regresion (categorical tree)"
   ]
  },
  {
   "cell_type": "markdown",
   "metadata": {},
   "source": [
    "## Training"
   ]
  },
  {
   "cell_type": "code",
   "execution_count": 337,
   "metadata": {},
   "outputs": [
    {
     "name": "stderr",
     "output_type": "stream",
     "text": [
      "c:\\Program Files\\Python36\\lib\\site-packages\\sklearn\\linear_model\\_logistic.py:765: ConvergenceWarning: lbfgs failed to converge (status=1):\n",
      "STOP: TOTAL NO. of ITERATIONS REACHED LIMIT.\n",
      "\n",
      "Increase the number of iterations (max_iter) or scale the data as shown in:\n",
      "    https://scikit-learn.org/stable/modules/preprocessing.html\n",
      "Please also refer to the documentation for alternative solver options:\n",
      "    https://scikit-learn.org/stable/modules/linear_model.html#logistic-regression\n",
      "  extra_warning_msg=_LOGISTIC_SOLVER_CONVERGENCE_MSG)\n"
     ]
    },
    {
     "data": {
      "text/plain": [
       "LogisticRegression()"
      ]
     },
     "execution_count": 337,
     "metadata": {},
     "output_type": "execute_result"
    }
   ],
   "source": [
    "log_model = LogisticRegression()\n",
    "log_model.fit(X_train, y_train.values.ravel())"
   ]
  },
  {
   "cell_type": "markdown",
   "metadata": {},
   "source": [
    "## Prediction"
   ]
  },
  {
   "cell_type": "code",
   "execution_count": 338,
   "metadata": {},
   "outputs": [],
   "source": [
    "y_pred = log_model.predict(X_test)"
   ]
  },
  {
   "cell_type": "code",
   "execution_count": 339,
   "metadata": {},
   "outputs": [
    {
     "data": {
      "text/plain": [
       "False    405\n",
       "True     166\n",
       "Name: Gls, dtype: int64"
      ]
     },
     "execution_count": 339,
     "metadata": {},
     "output_type": "execute_result"
    }
   ],
   "source": [
    "y_test.value_counts()"
   ]
  },
  {
   "cell_type": "markdown",
   "metadata": {},
   "source": [
    "## Confusion Matrix"
   ]
  },
  {
   "cell_type": "code",
   "execution_count": 340,
   "metadata": {},
   "outputs": [
    {
     "name": "stdout",
     "output_type": "stream",
     "text": [
      "Accuracy: 0.809106830122592\n"
     ]
    },
    {
     "data": {
      "image/png": "[encoded data removed]",
      "text/plain": [
       "<Figure size 720x432 with 2 Axes>"
      ]
     },
     "metadata": {
      "needs_background": "light"
     },
     "output_type": "display_data"
    }
   ],
   "source": [
    "accuracy = accuracy_score(y_test, y_pred)\n",
    "print(\"Accuracy:\", accuracy)\n",
    "\n",
    "cm = confusion_matrix(y_test, y_pred)\n",
    "\n",
    "fig, ax = plt.subplots(figsize=(10, 6))\n",
    "sns.heatmap(cm, annot=True, ax=ax)\n",
    "_ = plt.xlabel(\"Predicted\")\n",
    "_ = plt.ylabel(\"Actual\")"
   ]
  },
  {
   "cell_type": "markdown",
   "metadata": {},
   "source": [
    "## ROC AUC"
   ]
  },
  {
   "cell_type": "code",
   "execution_count": 341,
   "metadata": {},
   "outputs": [
    {
     "data": {
      "text/plain": [
       "0.7285661163171203"
      ]
     },
     "execution_count": 341,
     "metadata": {},
     "output_type": "execute_result"
    }
   ],
   "source": [
    "roc_auc_score(y_test, y_pred)"
   ]
  },
  {
   "cell_type": "markdown",
   "metadata": {},
   "source": [
    "## Accuracy"
   ]
  },
  {
   "cell_type": "code",
   "execution_count": 342,
   "metadata": {},
   "outputs": [
    {
     "data": {
      "text/plain": [
       "0.809106830122592"
      ]
     },
     "execution_count": 342,
     "metadata": {},
     "output_type": "execute_result"
    }
   ],
   "source": [
    "accuracy_score(y_test, y_pred)"
   ]
  },
  {
   "cell_type": "markdown",
   "metadata": {},
   "source": [
    "## Precision"
   ]
  },
  {
   "cell_type": "code",
   "execution_count": 343,
   "metadata": {},
   "outputs": [
    {
     "data": {
      "text/plain": [
       "0.7355371900826446"
      ]
     },
     "execution_count": 343,
     "metadata": {},
     "output_type": "execute_result"
    }
   ],
   "source": [
    "precision_score(y_test, y_pred)"
   ]
  },
  {
   "cell_type": "markdown",
   "metadata": {},
   "source": [
    "# Decision tree (categorical tree)"
   ]
  },
  {
   "cell_type": "markdown",
   "metadata": {},
   "source": [
    "## Training"
   ]
  },
  {
   "cell_type": "code",
   "execution_count": 344,
   "metadata": {},
   "outputs": [
    {
     "data": {
      "text/plain": [
       "DecisionTreeClassifier()"
      ]
     },
     "execution_count": 344,
     "metadata": {},
     "output_type": "execute_result"
    }
   ],
   "source": [
    "dt_model = DecisionTreeClassifier()\n",
    "dt_model.fit(X_train, y_train)"
   ]
  },
  {
   "cell_type": "code",
   "execution_count": 345,
   "metadata": {},
   "outputs": [
    {
     "data": {
      "text/plain": [
       "DecisionTreeClassifier()"
      ]
     },
     "execution_count": 345,
     "metadata": {},
     "output_type": "execute_result"
    }
   ],
   "source": [
    "dt_model"
   ]
  },
  {
   "cell_type": "markdown",
   "metadata": {},
   "source": [
    "## Prediction"
   ]
  },
  {
   "cell_type": "code",
   "execution_count": 346,
   "metadata": {},
   "outputs": [],
   "source": [
    "y_pred = dt_model.predict(X_test)"
   ]
  },
  {
   "cell_type": "code",
   "execution_count": 347,
   "metadata": {},
   "outputs": [
    {
     "data": {
      "text/plain": [
       "False    405\n",
       "True     166\n",
       "Name: Gls, dtype: int64"
      ]
     },
     "execution_count": 347,
     "metadata": {},
     "output_type": "execute_result"
    }
   ],
   "source": [
    "y_test.value_counts()\n"
   ]
  },
  {
   "cell_type": "markdown",
   "metadata": {},
   "source": [
    "## Confusion Matrix"
   ]
  },
  {
   "cell_type": "code",
   "execution_count": 348,
   "metadata": {},
   "outputs": [
    {
     "name": "stdout",
     "output_type": "stream",
     "text": [
      "Accuracy: 0.7618213660245184\n",
      "              precision    recall  f1-score   support\n",
      "\n",
      "       False       0.83      0.84      0.83       405\n",
      "        True       0.59      0.57      0.58       166\n",
      "\n",
      "    accuracy                           0.76       571\n",
      "   macro avg       0.71      0.70      0.71       571\n",
      "weighted avg       0.76      0.76      0.76       571\n",
      "\n"
     ]
    },
    {
     "data": {
      "image/png": "[encoded data removed]",
      "text/plain": [
       "<Figure size 720x432 with 2 Axes>"
      ]
     },
     "metadata": {
      "needs_background": "light"
     },
     "output_type": "display_data"
    }
   ],
   "source": [
    "accuracy = accuracy_score(y_test, y_pred)\n",
    "cm = confusion_matrix(y_test, y_pred)\n",
    "\n",
    "print(\"Accuracy:\", accuracy)\n",
    "\n",
    "fig, ax = plt.subplots(figsize=(10, 6))\n",
    "sns.heatmap(cm, annot=True, ax=ax)\n",
    "_ = plt.xlabel(\"Predicted\")\n",
    "_ = plt.ylabel(\"Actual\")\n",
    "\n",
    "print(classification_report(y_test, y_pred))"
   ]
  },
  {
   "cell_type": "markdown",
   "metadata": {},
   "source": [
    "## ROC AUC"
   ]
  },
  {
   "cell_type": "code",
   "execution_count": 349,
   "metadata": {},
   "outputs": [
    {
     "data": {
      "text/plain": [
       "0.7041201844414695"
      ]
     },
     "execution_count": 349,
     "metadata": {},
     "output_type": "execute_result"
    }
   ],
   "source": [
    "roc_auc_score(y_test, y_pred)"
   ]
  },
  {
   "cell_type": "markdown",
   "metadata": {},
   "source": [
    "## Exploring Hyperparameters"
   ]
  },
  {
   "cell_type": "code",
   "execution_count": 350,
   "metadata": {},
   "outputs": [
    {
     "data": {
      "text/plain": [
       "GridSearchCV(cv=5, estimator=DecisionTreeClassifier(), n_jobs=-1,\n",
       "             param_grid={'max_depth': [None, 10, 20, 30, 40, 50],\n",
       "                         'max_features': [None, 'sqrt', 'log2'],\n",
       "                         'min_samples_leaf': [1, 2, 4],\n",
       "                         'min_samples_split': [2, 5, 10]},\n",
       "             scoring='accuracy')"
      ]
     },
     "execution_count": 350,
     "metadata": {},
     "output_type": "execute_result"
    }
   ],
   "source": [
    "# Definir el rango de hiperparámetros a explorar\n",
    "param_grid = {\n",
    "    'max_depth': [None, 10, 20, 30, 40, 50],\n",
    "    'min_samples_split': [2, 5, 10],\n",
    "    'min_samples_leaf': [1, 2, 4],\n",
    "    'max_features': [None, 'sqrt', 'log2']\n",
    "}\n",
    "\n",
    "# Configurar Grid Search con Cross Validation\n",
    "grid_search = GridSearchCV(estimator=dt_model, param_grid=param_grid, cv=5, scoring='accuracy', n_jobs=-1)\n",
    "\n",
    "# Ajustar el GridSearchCV a los datos de entrenamiento\n",
    "grid_search.fit(X_train, y_train)\n"
   ]
  },
  {
   "cell_type": "code",
   "execution_count": 351,
   "metadata": {},
   "outputs": [
    {
     "name": "stdout",
     "output_type": "stream",
     "text": [
      "Mejores hiperparámetros: {'max_depth': 10, 'max_features': None, 'min_samples_leaf': 4, 'min_samples_split': 10}\n",
      "Mejor puntuación de validación cruzada: 0.8084110714422819\n"
     ]
    }
   ],
   "source": [
    "# Imprimir los mejores hiperparámetros y la mejor puntuación usando el objeto grid_search\n",
    "print(\"Mejores hiperparámetros:\", grid_search.best_params_)\n",
    "print(\"Mejor puntuación de validación cruzada:\", grid_search.best_score_)"
   ]
  },
  {
   "cell_type": "markdown",
   "metadata": {},
   "source": [
    "## Accuracy"
   ]
  },
  {
   "cell_type": "code",
   "execution_count": 352,
   "metadata": {},
   "outputs": [
    {
     "data": {
      "text/plain": [
       "0.7618213660245184"
      ]
     },
     "execution_count": 352,
     "metadata": {},
     "output_type": "execute_result"
    }
   ],
   "source": [
    "accuracy_score(y_test, y_pred)"
   ]
  },
  {
   "cell_type": "markdown",
   "metadata": {},
   "source": [
    "## Precision"
   ]
  },
  {
   "cell_type": "code",
   "execution_count": 353,
   "metadata": {},
   "outputs": [
    {
     "data": {
      "text/plain": [
       "0.5949367088607594"
      ]
     },
     "execution_count": 353,
     "metadata": {},
     "output_type": "execute_result"
    }
   ],
   "source": [
    "precision_score(y_test, y_pred)"
   ]
  },
  {
   "cell_type": "markdown",
   "metadata": {},
   "source": [
    "## Feature importances"
   ]
  },
  {
   "cell_type": "code",
   "execution_count": 354,
   "metadata": {},
   "outputs": [
    {
     "data": {
      "text/plain": [
       "Index(['Age', 'Ast', 'Ast_90', 'Pos_DF', 'Pos_DF,FW', 'Pos_DF,MF', 'Pos_FW',\n",
       "       'Pos_FW,DF', 'Pos_FW,MF', 'Pos_GK', 'Pos_MF', 'Pos_MF,DF', 'Pos_MF,FW',\n",
       "       'Comp_de Bundesliga', 'Comp_eng Premier League', 'Comp_es La Liga',\n",
       "       'Comp_fr Ligue 1', 'Comp_it Serie A'],\n",
       "      dtype='object')"
      ]
     },
     "execution_count": 354,
     "metadata": {},
     "output_type": "execute_result"
    }
   ],
   "source": [
    "X_train.columns"
   ]
  },
  {
   "cell_type": "code",
   "execution_count": 355,
   "metadata": {},
   "outputs": [
    {
     "data": {
      "text/plain": [
       "array([0.19052476, 0.2756006 , 0.20018879, 0.06185125, 0.00468922,\n",
       "       0.00665194, 0.04262763, 0.00881662, 0.02937177, 0.00648983,\n",
       "       0.01604181, 0.01204001, 0.01613953, 0.01663924, 0.02252756,\n",
       "       0.02602587, 0.0323563 , 0.0314173 ])"
      ]
     },
     "execution_count": 355,
     "metadata": {},
     "output_type": "execute_result"
    }
   ],
   "source": [
    "dt_model.feature_importances_"
   ]
  },
  {
   "cell_type": "code",
   "execution_count": 356,
   "metadata": {},
   "outputs": [
    {
     "data": {
      "image/png": "[encoded data removed]",
      "text/plain": [
       "<Figure size 720x432 with 1 Axes>"
      ]
     },
     "metadata": {
      "needs_background": "light"
     },
     "output_type": "display_data"
    }
   ],
   "source": [
    "importances = dt_model.feature_importances_[::-1]\n",
    "indices = np.argsort(importances)\n",
    "\n",
    "plt.figure(figsize=(10, 6))\n",
    "plt.title(\"Feature Importances\")\n",
    "plt.barh(range(X_train.shape[1]), importances[indices], align=\"center\")\n",
    "plt.yticks(range(X_train.shape[1]), X_train.columns[indices])\n",
    "plt.xlabel(\"Relative Importance\")\n",
    "plt.show()"
   ]
  }
 ],
 "metadata": {
  "kernelspec": {
   "display_name": "Python 3.6.5 64-bit",
   "language": "python",
   "name": "python3"
  },
  "language_info": {
   "codemirror_mode": {
    "name": "ipython",
    "version": 3
   },
   "file_extension": ".py",
   "mimetype": "text/x-python",
   "name": "python",
   "nbconvert_exporter": "python",
   "pygments_lexer": "ipython3",
   "version": "3.6.5"
  },
  "vscode": {
   "interpreter": {
    "hash": "f4e9cda46bb2d9d7fe6ecdff0f8336a934348bf06cb492f2f42f60739b3403b4"
   }
  }
 },
 "nbformat": 4,
 "nbformat_minor": 2
}
